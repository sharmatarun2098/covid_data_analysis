{
 "cells": [
  {
   "cell_type": "code",
   "execution_count": 1,
   "id": "8ebf7e0e",
   "metadata": {},
   "outputs": [],
   "source": [
    "import pandas as pd\n",
    "import numpy as np\n",
    "import matplotlib.pyplot as plt\n",
    "import seaborn as sns"
   ]
  },
  {
   "cell_type": "code",
   "execution_count": 65,
   "id": "86e985bd",
   "metadata": {},
   "outputs": [
    {
     "data": {
      "text/html": [
       "<div>\n",
       "<style scoped>\n",
       "    .dataframe tbody tr th:only-of-type {\n",
       "        vertical-align: middle;\n",
       "    }\n",
       "\n",
       "    .dataframe tbody tr th {\n",
       "        vertical-align: top;\n",
       "    }\n",
       "\n",
       "    .dataframe thead th {\n",
       "        text-align: right;\n",
       "    }\n",
       "</style>\n",
       "<table border=\"1\" class=\"dataframe\">\n",
       "  <thead>\n",
       "    <tr style=\"text-align: right;\">\n",
       "      <th></th>\n",
       "      <th>CODE</th>\n",
       "      <th>COUNTRY</th>\n",
       "      <th>DATE</th>\n",
       "      <th>HDI</th>\n",
       "      <th>TC</th>\n",
       "      <th>TD</th>\n",
       "      <th>STI</th>\n",
       "      <th>POP</th>\n",
       "      <th>GDPCAP</th>\n",
       "    </tr>\n",
       "  </thead>\n",
       "  <tbody>\n",
       "    <tr>\n",
       "      <th>0</th>\n",
       "      <td>AFG</td>\n",
       "      <td>Afghanistan</td>\n",
       "      <td>12/31/2019</td>\n",
       "      <td>0.498</td>\n",
       "      <td>0.0</td>\n",
       "      <td>0.0</td>\n",
       "      <td>0.0</td>\n",
       "      <td>17.477233</td>\n",
       "      <td>7.497754</td>\n",
       "    </tr>\n",
       "    <tr>\n",
       "      <th>1</th>\n",
       "      <td>AFG</td>\n",
       "      <td>Afghanistan</td>\n",
       "      <td>1/1/2020</td>\n",
       "      <td>0.498</td>\n",
       "      <td>0.0</td>\n",
       "      <td>0.0</td>\n",
       "      <td>0.0</td>\n",
       "      <td>17.477233</td>\n",
       "      <td>7.497754</td>\n",
       "    </tr>\n",
       "    <tr>\n",
       "      <th>2</th>\n",
       "      <td>AFG</td>\n",
       "      <td>Afghanistan</td>\n",
       "      <td>1/2/2020</td>\n",
       "      <td>0.498</td>\n",
       "      <td>0.0</td>\n",
       "      <td>0.0</td>\n",
       "      <td>0.0</td>\n",
       "      <td>17.477233</td>\n",
       "      <td>7.497754</td>\n",
       "    </tr>\n",
       "    <tr>\n",
       "      <th>3</th>\n",
       "      <td>AFG</td>\n",
       "      <td>Afghanistan</td>\n",
       "      <td>1/3/2020</td>\n",
       "      <td>0.498</td>\n",
       "      <td>0.0</td>\n",
       "      <td>0.0</td>\n",
       "      <td>0.0</td>\n",
       "      <td>17.477233</td>\n",
       "      <td>7.497754</td>\n",
       "    </tr>\n",
       "    <tr>\n",
       "      <th>4</th>\n",
       "      <td>AFG</td>\n",
       "      <td>Afghanistan</td>\n",
       "      <td>1/4/2020</td>\n",
       "      <td>0.498</td>\n",
       "      <td>0.0</td>\n",
       "      <td>0.0</td>\n",
       "      <td>0.0</td>\n",
       "      <td>17.477233</td>\n",
       "      <td>7.497754</td>\n",
       "    </tr>\n",
       "  </tbody>\n",
       "</table>\n",
       "</div>"
      ],
      "text/plain": [
       "  CODE      COUNTRY        DATE    HDI   TC   TD  STI        POP    GDPCAP\n",
       "0  AFG  Afghanistan  12/31/2019  0.498  0.0  0.0  0.0  17.477233  7.497754\n",
       "1  AFG  Afghanistan    1/1/2020  0.498  0.0  0.0  0.0  17.477233  7.497754\n",
       "2  AFG  Afghanistan    1/2/2020  0.498  0.0  0.0  0.0  17.477233  7.497754\n",
       "3  AFG  Afghanistan    1/3/2020  0.498  0.0  0.0  0.0  17.477233  7.497754\n",
       "4  AFG  Afghanistan    1/4/2020  0.498  0.0  0.0  0.0  17.477233  7.497754"
      ]
     },
     "execution_count": 65,
     "metadata": {},
     "output_type": "execute_result"
    }
   ],
   "source": [
    "df = pd.read_csv('transformed_data.csv')\n",
    "df.head()"
   ]
  },
  {
   "cell_type": "code",
   "execution_count": 3,
   "id": "5696e731",
   "metadata": {},
   "outputs": [
    {
     "data": {
      "text/plain": [
       "(50418, 9)"
      ]
     },
     "execution_count": 3,
     "metadata": {},
     "output_type": "execute_result"
    }
   ],
   "source": [
    "df.shape"
   ]
  },
  {
   "cell_type": "markdown",
   "id": "ba49129e",
   "metadata": {},
   "source": [
    "# Top 10 Countries with Highest Covid Cases"
   ]
  },
  {
   "cell_type": "code",
   "execution_count": 4,
   "id": "bf6a1dad",
   "metadata": {},
   "outputs": [
    {
     "data": {
      "text/plain": [
       "COUNTRY\n",
       "United States     3343.050755\n",
       "China             3128.587021\n",
       "Brazil            2913.256895\n",
       "Italy             2873.314489\n",
       "Spain             2843.820343\n",
       "India             2825.623737\n",
       "United Kingdom    2809.857646\n",
       "Germany           2804.510066\n",
       "Iran              2803.718251\n",
       "France            2801.434702\n",
       "Name: TC, dtype: float64"
      ]
     },
     "execution_count": 4,
     "metadata": {},
     "output_type": "execute_result"
    }
   ],
   "source": [
    "TOP_10_countries_highest_covid_cases=df.groupby('COUNTRY')['TC'].sum().nlargest(10).sort_values(ascending = False)\n",
    "TOP_10_countries_highest_covid_cases.head(10)"
   ]
  },
  {
   "cell_type": "code",
   "execution_count": 5,
   "id": "9954d3ef",
   "metadata": {},
   "outputs": [
    {
     "data": {
      "image/png": "[encoded data removed]",
      "text/plain": [
       "<Figure size 720x576 with 1 Axes>"
      ]
     },
     "metadata": {
      "needs_background": "light"
     },
     "output_type": "display_data"
    }
   ],
   "source": [
    "plt.figure(figsize=(10,8))\n",
    "TOP_10_countries_highest_covid_cases=df.groupby('COUNTRY')['TC'].sum().nlargest(10).sort_values(ascending = False)\n",
    "sns.barplot(y=TOP_10_countries_highest_covid_cases.index,x=TOP_10_countries_highest_covid_cases,orient = 'h')\n",
    "plt.xlabel('COUNTRY')\n",
    "plt.ylabel('TC')\n",
    "plt.show()"
   ]
  },
  {
   "cell_type": "markdown",
   "id": "afcf7b88",
   "metadata": {},
   "source": [
    "# Total number of deaths among the countries with the highest number of covid-19 cases"
   ]
  },
  {
   "cell_type": "code",
   "execution_count": 6,
   "id": "25d8734e",
   "metadata": {},
   "outputs": [
    {
     "data": {
      "text/plain": [
       "COUNTRY\n",
       "United States     2480.576064\n",
       "Italy             2327.710204\n",
       "United Kingdom    2209.519314\n",
       "China             2205.740166\n",
       "France            2203.766710\n",
       "Name: TD, dtype: float64"
      ]
     },
     "execution_count": 6,
     "metadata": {},
     "output_type": "execute_result"
    }
   ],
   "source": [
    "no_of_deaths_with_covid_cases=df.groupby('COUNTRY')['TD'].sum().nlargest(10).sort_values(ascending = False)\n",
    "no_of_deaths_with_covid_cases.head()"
   ]
  },
  {
   "cell_type": "code",
   "execution_count": 7,
   "id": "052fa639",
   "metadata": {},
   "outputs": [
    {
     "data": {
      "image/png": "[encoded data removed]",
      "text/plain": [
       "<Figure size 720x576 with 1 Axes>"
      ]
     },
     "metadata": {
      "needs_background": "light"
     },
     "output_type": "display_data"
    }
   ],
   "source": [
    "plt.figure(figsize=(10,8))\n",
    "no_of_deaths_with_covid_cases=df.groupby('COUNTRY')['TD'].sum().nlargest(10).sort_values(ascending = False)\n",
    "sns.barplot(y=no_of_deaths_with_covid_cases.index,x=no_of_deaths_with_covid_cases,orient = 'h')\n",
    "plt.xlabel('COUNTRY')\n",
    "plt.ylabel('TD')\n",
    "plt.show()"
   ]
  },
  {
   "cell_type": "markdown",
   "id": "4466a615",
   "metadata": {},
   "source": [
    "# Percentage of total deaths and total cases among all the countries with the highest number of covid-19 cases"
   ]
  },
  {
   "cell_type": "code",
   "execution_count": 8,
   "id": "c2c8a5e1",
   "metadata": {},
   "outputs": [
    {
     "data": {
      "text/plain": [
       "COUNTRY             \n",
       "United States  48414    0.003608\n",
       "               48413    0.003607\n",
       "               48412    0.003606\n",
       "               48411    0.003605\n",
       "               48410    0.003604\n",
       "Name: percent, dtype: float64"
      ]
     },
     "execution_count": 8,
     "metadata": {},
     "output_type": "execute_result"
    }
   ],
   "source": [
    "df['percent'] = (df['TD'] / df['TC'].sum()) * 100\n",
    "total_deaths_and_total_cases = df.groupby('COUNTRY')['percent'].nlargest().sort_values(ascending = False)\n",
    "total_deaths_and_total_cases.head()"
   ]
  },
  {
   "cell_type": "code",
   "execution_count": 9,
   "id": "7784bbd6",
   "metadata": {},
   "outputs": [
    {
     "data": {
      "text/plain": [
       "<AxesSubplot:xlabel='COUNTRY,None'>"
      ]
     },
     "execution_count": 9,
     "metadata": {},
     "output_type": "execute_result"
    },
    {
     "data": {
      "image/png": "[encoded data removed]",
      "text/plain": [
       "<Figure size 432x288 with 1 Axes>"
      ]
     },
     "metadata": {
      "needs_background": "light"
     },
     "output_type": "display_data"
    }
   ],
   "source": [
    "total_deaths_and_total_cases.head().plot(x=\"TC\", y=[\"TD\"], kind=\"bar\", color=\"maroon\")"
   ]
  },
  {
   "cell_type": "markdown",
   "id": "1732b218",
   "metadata": {},
   "source": [
    "# calculate the death rate of Covid-19 cases"
   ]
  },
  {
   "cell_type": "code",
   "execution_count": 10,
   "id": "2f78b965",
   "metadata": {},
   "outputs": [
    {
     "data": {
      "text/plain": [
       "COUNTRY       \n",
       "Iran     22067    1.000000\n",
       "France   16562    0.863024\n",
       "         16561    0.862924\n",
       "         16560    0.862773\n",
       "         16559    0.862759\n",
       "Name: death, dtype: float64"
      ]
     },
     "execution_count": 10,
     "metadata": {},
     "output_type": "execute_result"
    }
   ],
   "source": [
    "df['death']= df['TD'] / df['TC']\n",
    "death_rate= df.groupby('COUNTRY')['death'].nlargest().sort_values(ascending = False)\n",
    "death_rate.head()"
   ]
  },
  {
   "cell_type": "code",
   "execution_count": 11,
   "id": "90494c7e",
   "metadata": {},
   "outputs": [
    {
     "data": {
      "text/plain": [
       "<AxesSubplot:xlabel='COUNTRY,None'>"
      ]
     },
     "execution_count": 11,
     "metadata": {},
     "output_type": "execute_result"
    },
    {
     "data": {
      "image/png": "[encoded data removed]",
      "text/plain": [
       "<Figure size 432x288 with 1 Axes>"
      ]
     },
     "metadata": {
      "needs_background": "light"
     },
     "output_type": "display_data"
    }
   ],
   "source": [
    "death_rate.head().plot(x=\"TC\", y=[\"TD\"], kind=\"bar\",color = \"maroon\")"
   ]
  },
  {
   "cell_type": "markdown",
   "id": "4bc25173",
   "metadata": {},
   "source": [
    "### stringency index-: It is a composite measure of response indicators, including school closures, workplace closures, and travel bans. It shows how strictly countries are following these measures to control the spread of covid-19"
   ]
  },
  {
   "cell_type": "code",
   "execution_count": 13,
   "id": "a6412f85",
   "metadata": {},
   "outputs": [
    {
     "data": {
      "text/plain": [
       "COUNTRY\n",
       "China          1144.410846\n",
       "Singapore      1096.836652\n",
       "Oman           1096.661003\n",
       "Vietnam        1090.995318\n",
       "Philippines    1081.362101\n",
       "Name: STI, dtype: float64"
      ]
     },
     "execution_count": 13,
     "metadata": {},
     "output_type": "execute_result"
    }
   ],
   "source": [
    "stringency_index=df.groupby('COUNTRY')['STI'].sum().nlargest(5).sort_values(ascending = False)\n",
    "stringency_index.head()"
   ]
  },
  {
   "cell_type": "code",
   "execution_count": 14,
   "id": "affe6f6f",
   "metadata": {},
   "outputs": [
    {
     "data": {
      "text/plain": [
       "<AxesSubplot:xlabel='COUNTRY'>"
      ]
     },
     "execution_count": 14,
     "metadata": {},
     "output_type": "execute_result"
    },
    {
     "data": {
      "image/png": "[encoded data removed]",
      "text/plain": [
       "<Figure size 432x288 with 1 Axes>"
      ]
     },
     "metadata": {
      "needs_background": "light"
     },
     "output_type": "display_data"
    }
   ],
   "source": [
    "stringency_index.head().plot(x=\"STI\", y=[\"COUNTRY\"], kind=\"bar\",color = \"maroon\")"
   ]
  },
  {
   "cell_type": "markdown",
   "id": "e4a6eda9",
   "metadata": {},
   "source": [
    "# GDP per capita is the primary factor for analyzing the economic slowdowns caused due to the outbreak of covid-19."
   ]
  },
  {
   "cell_type": "code",
   "execution_count": 16,
   "id": "b4eb681b",
   "metadata": {},
   "outputs": [
    {
     "data": {
      "text/html": [
       "<div>\n",
       "<style scoped>\n",
       "    .dataframe tbody tr th:only-of-type {\n",
       "        vertical-align: middle;\n",
       "    }\n",
       "\n",
       "    .dataframe tbody tr th {\n",
       "        vertical-align: top;\n",
       "    }\n",
       "\n",
       "    .dataframe thead th {\n",
       "        text-align: right;\n",
       "    }\n",
       "</style>\n",
       "<table border=\"1\" class=\"dataframe\">\n",
       "  <thead>\n",
       "    <tr style=\"text-align: right;\">\n",
       "      <th></th>\n",
       "      <th>GDPCAP</th>\n",
       "    </tr>\n",
       "    <tr>\n",
       "      <th>COUNTRY</th>\n",
       "      <th></th>\n",
       "    </tr>\n",
       "  </thead>\n",
       "  <tbody>\n",
       "    <tr>\n",
       "      <th>Afghanistan</th>\n",
       "      <td>7.497754</td>\n",
       "    </tr>\n",
       "    <tr>\n",
       "      <th>Albania</th>\n",
       "      <td>9.376146</td>\n",
       "    </tr>\n",
       "    <tr>\n",
       "      <th>Algeria</th>\n",
       "      <td>9.540639</td>\n",
       "    </tr>\n",
       "    <tr>\n",
       "      <th>Andorra</th>\n",
       "      <td>0.000000</td>\n",
       "    </tr>\n",
       "    <tr>\n",
       "      <th>Angola</th>\n",
       "      <td>8.668969</td>\n",
       "    </tr>\n",
       "    <tr>\n",
       "      <th>...</th>\n",
       "      <td>...</td>\n",
       "    </tr>\n",
       "    <tr>\n",
       "      <th>Venezuela</th>\n",
       "      <td>9.725856</td>\n",
       "    </tr>\n",
       "    <tr>\n",
       "      <th>Vietnam</th>\n",
       "      <td>8.727759</td>\n",
       "    </tr>\n",
       "    <tr>\n",
       "      <th>Yemen</th>\n",
       "      <td>7.299221</td>\n",
       "    </tr>\n",
       "    <tr>\n",
       "      <th>Zambia</th>\n",
       "      <td>8.213179</td>\n",
       "    </tr>\n",
       "    <tr>\n",
       "      <th>Zimbabwe</th>\n",
       "      <td>7.549491</td>\n",
       "    </tr>\n",
       "  </tbody>\n",
       "</table>\n",
       "<p>210 rows × 1 columns</p>\n",
       "</div>"
      ],
      "text/plain": [
       "               GDPCAP\n",
       "COUNTRY              \n",
       "Afghanistan  7.497754\n",
       "Albania      9.376146\n",
       "Algeria      9.540639\n",
       "Andorra      0.000000\n",
       "Angola       8.668969\n",
       "...               ...\n",
       "Venezuela    9.725856\n",
       "Vietnam      8.727759\n",
       "Yemen        7.299221\n",
       "Zambia       8.213179\n",
       "Zimbabwe     7.549491\n",
       "\n",
       "[210 rows x 1 columns]"
      ]
     },
     "execution_count": 16,
     "metadata": {},
     "output_type": "execute_result"
    }
   ],
   "source": [
    "df.groupby('COUNTRY')[['GDPCAP']].median()"
   ]
  },
  {
   "cell_type": "code",
   "execution_count": 27,
   "id": "88c06df9",
   "metadata": {},
   "outputs": [
    {
     "data": {
      "text/plain": [
       "<AxesSubplot:xlabel='GDPCAP', ylabel='COUNTRY'>"
      ]
     },
     "execution_count": 27,
     "metadata": {},
     "output_type": "execute_result"
    },
    {
     "data": {
      "image/png": "[encoded data removed]",
      "text/plain": [
       "<Figure size 432x288 with 1 Axes>"
      ]
     },
     "metadata": {
      "needs_background": "light"
     },
     "output_type": "display_data"
    }
   ],
   "source": [
    "sns.scatterplot(data=df, x='GDPCAP', y='COUNTRY')"
   ]
  },
  {
   "cell_type": "markdown",
   "id": "e0c72038",
   "metadata": {},
   "source": [
    "# GDP per capita during the rise in the cases of covid-19"
   ]
  },
  {
   "cell_type": "code",
   "execution_count": 19,
   "id": "a4209b71",
   "metadata": {},
   "outputs": [
    {
     "data": {
      "text/html": [
       "<div>\n",
       "<style scoped>\n",
       "    .dataframe tbody tr th:only-of-type {\n",
       "        vertical-align: middle;\n",
       "    }\n",
       "\n",
       "    .dataframe tbody tr th {\n",
       "        vertical-align: top;\n",
       "    }\n",
       "\n",
       "    .dataframe thead th {\n",
       "        text-align: right;\n",
       "    }\n",
       "</style>\n",
       "<table border=\"1\" class=\"dataframe\">\n",
       "  <thead>\n",
       "    <tr style=\"text-align: right;\">\n",
       "      <th></th>\n",
       "      <th>CODE</th>\n",
       "      <th>COUNTRY</th>\n",
       "      <th>DATE</th>\n",
       "      <th>HDI</th>\n",
       "      <th>TC</th>\n",
       "      <th>TD</th>\n",
       "      <th>STI</th>\n",
       "      <th>POP</th>\n",
       "      <th>GDPCAP</th>\n",
       "      <th>percent</th>\n",
       "      <th>death</th>\n",
       "      <th>Total_GDP ($)</th>\n",
       "      <th>Year</th>\n",
       "    </tr>\n",
       "  </thead>\n",
       "  <tbody>\n",
       "    <tr>\n",
       "      <th>0</th>\n",
       "      <td>AFG</td>\n",
       "      <td>Afghanistan</td>\n",
       "      <td>12/31/2019</td>\n",
       "      <td>0.498</td>\n",
       "      <td>0.0</td>\n",
       "      <td>0.0</td>\n",
       "      <td>0.0</td>\n",
       "      <td>17.477233</td>\n",
       "      <td>7.497754</td>\n",
       "      <td>0.0</td>\n",
       "      <td>NaN</td>\n",
       "      <td>131.040003</td>\n",
       "      <td>2019</td>\n",
       "    </tr>\n",
       "    <tr>\n",
       "      <th>1</th>\n",
       "      <td>AFG</td>\n",
       "      <td>Afghanistan</td>\n",
       "      <td>1/1/2020</td>\n",
       "      <td>0.498</td>\n",
       "      <td>0.0</td>\n",
       "      <td>0.0</td>\n",
       "      <td>0.0</td>\n",
       "      <td>17.477233</td>\n",
       "      <td>7.497754</td>\n",
       "      <td>0.0</td>\n",
       "      <td>NaN</td>\n",
       "      <td>131.040003</td>\n",
       "      <td>2020</td>\n",
       "    </tr>\n",
       "    <tr>\n",
       "      <th>2</th>\n",
       "      <td>AFG</td>\n",
       "      <td>Afghanistan</td>\n",
       "      <td>1/2/2020</td>\n",
       "      <td>0.498</td>\n",
       "      <td>0.0</td>\n",
       "      <td>0.0</td>\n",
       "      <td>0.0</td>\n",
       "      <td>17.477233</td>\n",
       "      <td>7.497754</td>\n",
       "      <td>0.0</td>\n",
       "      <td>NaN</td>\n",
       "      <td>131.040003</td>\n",
       "      <td>2020</td>\n",
       "    </tr>\n",
       "    <tr>\n",
       "      <th>3</th>\n",
       "      <td>AFG</td>\n",
       "      <td>Afghanistan</td>\n",
       "      <td>1/3/2020</td>\n",
       "      <td>0.498</td>\n",
       "      <td>0.0</td>\n",
       "      <td>0.0</td>\n",
       "      <td>0.0</td>\n",
       "      <td>17.477233</td>\n",
       "      <td>7.497754</td>\n",
       "      <td>0.0</td>\n",
       "      <td>NaN</td>\n",
       "      <td>131.040003</td>\n",
       "      <td>2020</td>\n",
       "    </tr>\n",
       "    <tr>\n",
       "      <th>4</th>\n",
       "      <td>AFG</td>\n",
       "      <td>Afghanistan</td>\n",
       "      <td>1/4/2020</td>\n",
       "      <td>0.498</td>\n",
       "      <td>0.0</td>\n",
       "      <td>0.0</td>\n",
       "      <td>0.0</td>\n",
       "      <td>17.477233</td>\n",
       "      <td>7.497754</td>\n",
       "      <td>0.0</td>\n",
       "      <td>NaN</td>\n",
       "      <td>131.040003</td>\n",
       "      <td>2020</td>\n",
       "    </tr>\n",
       "  </tbody>\n",
       "</table>\n",
       "</div>"
      ],
      "text/plain": [
       "  CODE      COUNTRY        DATE    HDI   TC   TD  STI        POP    GDPCAP  \\\n",
       "0  AFG  Afghanistan  12/31/2019  0.498  0.0  0.0  0.0  17.477233  7.497754   \n",
       "1  AFG  Afghanistan    1/1/2020  0.498  0.0  0.0  0.0  17.477233  7.497754   \n",
       "2  AFG  Afghanistan    1/2/2020  0.498  0.0  0.0  0.0  17.477233  7.497754   \n",
       "3  AFG  Afghanistan    1/3/2020  0.498  0.0  0.0  0.0  17.477233  7.497754   \n",
       "4  AFG  Afghanistan    1/4/2020  0.498  0.0  0.0  0.0  17.477233  7.497754   \n",
       "\n",
       "   percent  death  Total_GDP ($)  Year  \n",
       "0      0.0    NaN     131.040003  2019  \n",
       "1      0.0    NaN     131.040003  2020  \n",
       "2      0.0    NaN     131.040003  2020  \n",
       "3      0.0    NaN     131.040003  2020  \n",
       "4      0.0    NaN     131.040003  2020  "
      ]
     },
     "execution_count": 19,
     "metadata": {},
     "output_type": "execute_result"
    }
   ],
   "source": [
    "df['Year'] = pd.DatetimeIndex(df['DATE']).year  \n",
    "df.head()"
   ]
  },
  {
   "cell_type": "code",
   "execution_count": 25,
   "id": "ad18c404",
   "metadata": {},
   "outputs": [
    {
     "data": {
      "text/html": [
       "<div>\n",
       "<style scoped>\n",
       "    .dataframe tbody tr th:only-of-type {\n",
       "        vertical-align: middle;\n",
       "    }\n",
       "\n",
       "    .dataframe tbody tr th {\n",
       "        vertical-align: top;\n",
       "    }\n",
       "\n",
       "    .dataframe thead th {\n",
       "        text-align: right;\n",
       "    }\n",
       "</style>\n",
       "<table border=\"1\" class=\"dataframe\">\n",
       "  <thead>\n",
       "    <tr style=\"text-align: right;\">\n",
       "      <th></th>\n",
       "      <th>CODE</th>\n",
       "      <th>COUNTRY</th>\n",
       "      <th>DATE</th>\n",
       "      <th>HDI</th>\n",
       "      <th>TC</th>\n",
       "      <th>TD</th>\n",
       "      <th>STI</th>\n",
       "      <th>POP</th>\n",
       "      <th>GDPCAP</th>\n",
       "      <th>percent</th>\n",
       "      <th>death</th>\n",
       "      <th>Total_GDP ($)</th>\n",
       "      <th>Year</th>\n",
       "      <th>Month</th>\n",
       "    </tr>\n",
       "  </thead>\n",
       "  <tbody>\n",
       "    <tr>\n",
       "      <th>0</th>\n",
       "      <td>AFG</td>\n",
       "      <td>Afghanistan</td>\n",
       "      <td>12/31/2019</td>\n",
       "      <td>0.498</td>\n",
       "      <td>0.0</td>\n",
       "      <td>0.0</td>\n",
       "      <td>0.0</td>\n",
       "      <td>17.477233</td>\n",
       "      <td>7.497754</td>\n",
       "      <td>0.0</td>\n",
       "      <td>NaN</td>\n",
       "      <td>131.040003</td>\n",
       "      <td>2019</td>\n",
       "      <td>12</td>\n",
       "    </tr>\n",
       "    <tr>\n",
       "      <th>1</th>\n",
       "      <td>AFG</td>\n",
       "      <td>Afghanistan</td>\n",
       "      <td>1/1/2020</td>\n",
       "      <td>0.498</td>\n",
       "      <td>0.0</td>\n",
       "      <td>0.0</td>\n",
       "      <td>0.0</td>\n",
       "      <td>17.477233</td>\n",
       "      <td>7.497754</td>\n",
       "      <td>0.0</td>\n",
       "      <td>NaN</td>\n",
       "      <td>131.040003</td>\n",
       "      <td>2020</td>\n",
       "      <td>1</td>\n",
       "    </tr>\n",
       "    <tr>\n",
       "      <th>2</th>\n",
       "      <td>AFG</td>\n",
       "      <td>Afghanistan</td>\n",
       "      <td>1/2/2020</td>\n",
       "      <td>0.498</td>\n",
       "      <td>0.0</td>\n",
       "      <td>0.0</td>\n",
       "      <td>0.0</td>\n",
       "      <td>17.477233</td>\n",
       "      <td>7.497754</td>\n",
       "      <td>0.0</td>\n",
       "      <td>NaN</td>\n",
       "      <td>131.040003</td>\n",
       "      <td>2020</td>\n",
       "      <td>1</td>\n",
       "    </tr>\n",
       "    <tr>\n",
       "      <th>3</th>\n",
       "      <td>AFG</td>\n",
       "      <td>Afghanistan</td>\n",
       "      <td>1/3/2020</td>\n",
       "      <td>0.498</td>\n",
       "      <td>0.0</td>\n",
       "      <td>0.0</td>\n",
       "      <td>0.0</td>\n",
       "      <td>17.477233</td>\n",
       "      <td>7.497754</td>\n",
       "      <td>0.0</td>\n",
       "      <td>NaN</td>\n",
       "      <td>131.040003</td>\n",
       "      <td>2020</td>\n",
       "      <td>1</td>\n",
       "    </tr>\n",
       "    <tr>\n",
       "      <th>4</th>\n",
       "      <td>AFG</td>\n",
       "      <td>Afghanistan</td>\n",
       "      <td>1/4/2020</td>\n",
       "      <td>0.498</td>\n",
       "      <td>0.0</td>\n",
       "      <td>0.0</td>\n",
       "      <td>0.0</td>\n",
       "      <td>17.477233</td>\n",
       "      <td>7.497754</td>\n",
       "      <td>0.0</td>\n",
       "      <td>NaN</td>\n",
       "      <td>131.040003</td>\n",
       "      <td>2020</td>\n",
       "      <td>1</td>\n",
       "    </tr>\n",
       "  </tbody>\n",
       "</table>\n",
       "</div>"
      ],
      "text/plain": [
       "  CODE      COUNTRY        DATE    HDI   TC   TD  STI        POP    GDPCAP  \\\n",
       "0  AFG  Afghanistan  12/31/2019  0.498  0.0  0.0  0.0  17.477233  7.497754   \n",
       "1  AFG  Afghanistan    1/1/2020  0.498  0.0  0.0  0.0  17.477233  7.497754   \n",
       "2  AFG  Afghanistan    1/2/2020  0.498  0.0  0.0  0.0  17.477233  7.497754   \n",
       "3  AFG  Afghanistan    1/3/2020  0.498  0.0  0.0  0.0  17.477233  7.497754   \n",
       "4  AFG  Afghanistan    1/4/2020  0.498  0.0  0.0  0.0  17.477233  7.497754   \n",
       "\n",
       "   percent  death  Total_GDP ($)  Year  Month  \n",
       "0      0.0    NaN     131.040003  2019     12  \n",
       "1      0.0    NaN     131.040003  2020      1  \n",
       "2      0.0    NaN     131.040003  2020      1  \n",
       "3      0.0    NaN     131.040003  2020      1  \n",
       "4      0.0    NaN     131.040003  2020      1  "
      ]
     },
     "execution_count": 25,
     "metadata": {},
     "output_type": "execute_result"
    }
   ],
   "source": [
    "df['Month'] = pd.DatetimeIndex(df['DATE']).month\n",
    "df.head()"
   ]
  },
  {
   "cell_type": "code",
   "execution_count": 21,
   "id": "e2e6719a",
   "metadata": {},
   "outputs": [
    {
     "data": {
      "image/png": "[encoded data removed]",
      "text/plain": [
       "<Figure size 1152x864 with 2 Axes>"
      ]
     },
     "metadata": {
      "needs_background": "light"
     },
     "output_type": "display_data"
    }
   ],
   "source": [
    "plt.figure(figsize=(16,12))\n",
    "sns.heatmap(data=df.iloc[:,2:].corr(),annot=True,fmt='.2f',cmap='coolwarm')\n",
    "plt.show()"
   ]
  },
  {
   "cell_type": "markdown",
   "id": "f705e4c3",
   "metadata": {},
   "source": [
    "# GDP per capita before covid-19 and during covid-19"
   ]
  },
  {
   "cell_type": "code",
   "execution_count": 48,
   "id": "b5aa293b",
   "metadata": {},
   "outputs": [
    {
     "data": {
      "text/html": [
       "<div>\n",
       "<style scoped>\n",
       "    .dataframe tbody tr th:only-of-type {\n",
       "        vertical-align: middle;\n",
       "    }\n",
       "\n",
       "    .dataframe tbody tr th {\n",
       "        vertical-align: top;\n",
       "    }\n",
       "\n",
       "    .dataframe thead th {\n",
       "        text-align: right;\n",
       "    }\n",
       "</style>\n",
       "<table border=\"1\" class=\"dataframe\">\n",
       "  <thead>\n",
       "    <tr style=\"text-align: right;\">\n",
       "      <th></th>\n",
       "      <th>CODE</th>\n",
       "      <th>COUNTRY</th>\n",
       "      <th>DATE</th>\n",
       "      <th>HDI</th>\n",
       "      <th>TC</th>\n",
       "      <th>TD</th>\n",
       "      <th>STI</th>\n",
       "      <th>POP</th>\n",
       "      <th>GDPCAP</th>\n",
       "      <th>percent</th>\n",
       "      <th>death</th>\n",
       "      <th>Total_GDP ($)</th>\n",
       "      <th>Year</th>\n",
       "      <th>Month</th>\n",
       "    </tr>\n",
       "  </thead>\n",
       "  <tbody>\n",
       "    <tr>\n",
       "      <th>0</th>\n",
       "      <td>AFG</td>\n",
       "      <td>Afghanistan</td>\n",
       "      <td>12/31/2019</td>\n",
       "      <td>0.498</td>\n",
       "      <td>0.0</td>\n",
       "      <td>0.0</td>\n",
       "      <td>0.0</td>\n",
       "      <td>17.477233</td>\n",
       "      <td>7.497754</td>\n",
       "      <td>0.0</td>\n",
       "      <td>NaN</td>\n",
       "      <td>131.040003</td>\n",
       "      <td>2019</td>\n",
       "      <td>12</td>\n",
       "    </tr>\n",
       "    <tr>\n",
       "      <th>519</th>\n",
       "      <td>DZA</td>\n",
       "      <td>Algeria</td>\n",
       "      <td>12/31/2019</td>\n",
       "      <td>0.754</td>\n",
       "      <td>0.0</td>\n",
       "      <td>0.0</td>\n",
       "      <td>0.0</td>\n",
       "      <td>17.596309</td>\n",
       "      <td>9.540639</td>\n",
       "      <td>0.0</td>\n",
       "      <td>NaN</td>\n",
       "      <td>167.880037</td>\n",
       "      <td>2019</td>\n",
       "      <td>12</td>\n",
       "    </tr>\n",
       "    <tr>\n",
       "      <th>1924</th>\n",
       "      <td>ARM</td>\n",
       "      <td>Armenia</td>\n",
       "      <td>12/31/2019</td>\n",
       "      <td>0.755</td>\n",
       "      <td>0.0</td>\n",
       "      <td>0.0</td>\n",
       "      <td>0.0</td>\n",
       "      <td>14.901792</td>\n",
       "      <td>9.081095</td>\n",
       "      <td>0.0</td>\n",
       "      <td>NaN</td>\n",
       "      <td>135.324582</td>\n",
       "      <td>2019</td>\n",
       "      <td>12</td>\n",
       "    </tr>\n",
       "    <tr>\n",
       "      <th>2434</th>\n",
       "      <td>AUS</td>\n",
       "      <td>Australia</td>\n",
       "      <td>12/31/2019</td>\n",
       "      <td>0.939</td>\n",
       "      <td>0.0</td>\n",
       "      <td>0.0</td>\n",
       "      <td>0.0</td>\n",
       "      <td>17.054184</td>\n",
       "      <td>10.706581</td>\n",
       "      <td>0.0</td>\n",
       "      <td>NaN</td>\n",
       "      <td>182.592001</td>\n",
       "      <td>2019</td>\n",
       "      <td>12</td>\n",
       "    </tr>\n",
       "    <tr>\n",
       "      <th>2728</th>\n",
       "      <td>AUT</td>\n",
       "      <td>Austria</td>\n",
       "      <td>12/31/2019</td>\n",
       "      <td>0.908</td>\n",
       "      <td>0.0</td>\n",
       "      <td>0.0</td>\n",
       "      <td>0.0</td>\n",
       "      <td>16.013446</td>\n",
       "      <td>10.724075</td>\n",
       "      <td>0.0</td>\n",
       "      <td>NaN</td>\n",
       "      <td>171.729398</td>\n",
       "      <td>2019</td>\n",
       "      <td>12</td>\n",
       "    </tr>\n",
       "    <tr>\n",
       "      <th>...</th>\n",
       "      <td>...</td>\n",
       "      <td>...</td>\n",
       "      <td>...</td>\n",
       "      <td>...</td>\n",
       "      <td>...</td>\n",
       "      <td>...</td>\n",
       "      <td>...</td>\n",
       "      <td>...</td>\n",
       "      <td>...</td>\n",
       "      <td>...</td>\n",
       "      <td>...</td>\n",
       "      <td>...</td>\n",
       "      <td>...</td>\n",
       "      <td>...</td>\n",
       "    </tr>\n",
       "    <tr>\n",
       "      <th>45484</th>\n",
       "      <td>THA</td>\n",
       "      <td>Thailand</td>\n",
       "      <td>12/31/2019</td>\n",
       "      <td>0.755</td>\n",
       "      <td>0.0</td>\n",
       "      <td>0.0</td>\n",
       "      <td>0.0</td>\n",
       "      <td>18.061144</td>\n",
       "      <td>9.697550</td>\n",
       "      <td>0.0</td>\n",
       "      <td>NaN</td>\n",
       "      <td>175.148842</td>\n",
       "      <td>2019</td>\n",
       "      <td>12</td>\n",
       "    </tr>\n",
       "    <tr>\n",
       "      <th>47533</th>\n",
       "      <td>ARE</td>\n",
       "      <td>United Arab Emirates</td>\n",
       "      <td>12/31/2019</td>\n",
       "      <td>0.863</td>\n",
       "      <td>0.0</td>\n",
       "      <td>0.0</td>\n",
       "      <td>0.0</td>\n",
       "      <td>16.107075</td>\n",
       "      <td>11.116819</td>\n",
       "      <td>0.0</td>\n",
       "      <td>NaN</td>\n",
       "      <td>179.059434</td>\n",
       "      <td>2019</td>\n",
       "      <td>12</td>\n",
       "    </tr>\n",
       "    <tr>\n",
       "      <th>47827</th>\n",
       "      <td>GBR</td>\n",
       "      <td>United Kingdom</td>\n",
       "      <td>12/31/2019</td>\n",
       "      <td>0.922</td>\n",
       "      <td>0.0</td>\n",
       "      <td>0.0</td>\n",
       "      <td>0.0</td>\n",
       "      <td>18.033340</td>\n",
       "      <td>10.590447</td>\n",
       "      <td>0.0</td>\n",
       "      <td>NaN</td>\n",
       "      <td>190.981131</td>\n",
       "      <td>2019</td>\n",
       "      <td>12</td>\n",
       "    </tr>\n",
       "    <tr>\n",
       "      <th>48121</th>\n",
       "      <td>USA</td>\n",
       "      <td>United States</td>\n",
       "      <td>12/31/2019</td>\n",
       "      <td>0.924</td>\n",
       "      <td>0.0</td>\n",
       "      <td>0.0</td>\n",
       "      <td>0.0</td>\n",
       "      <td>19.617637</td>\n",
       "      <td>10.900906</td>\n",
       "      <td>0.0</td>\n",
       "      <td>NaN</td>\n",
       "      <td>213.850007</td>\n",
       "      <td>2019</td>\n",
       "      <td>12</td>\n",
       "    </tr>\n",
       "    <tr>\n",
       "      <th>49503</th>\n",
       "      <td>VNM</td>\n",
       "      <td>Vietnam</td>\n",
       "      <td>12/31/2019</td>\n",
       "      <td>0.694</td>\n",
       "      <td>0.0</td>\n",
       "      <td>0.0</td>\n",
       "      <td>0.0</td>\n",
       "      <td>18.393706</td>\n",
       "      <td>8.727759</td>\n",
       "      <td>0.0</td>\n",
       "      <td>NaN</td>\n",
       "      <td>160.535841</td>\n",
       "      <td>2019</td>\n",
       "      <td>12</td>\n",
       "    </tr>\n",
       "  </tbody>\n",
       "</table>\n",
       "<p>66 rows × 14 columns</p>\n",
       "</div>"
      ],
      "text/plain": [
       "      CODE               COUNTRY        DATE    HDI   TC   TD  STI        POP  \\\n",
       "0      AFG           Afghanistan  12/31/2019  0.498  0.0  0.0  0.0  17.477233   \n",
       "519    DZA               Algeria  12/31/2019  0.754  0.0  0.0  0.0  17.596309   \n",
       "1924   ARM               Armenia  12/31/2019  0.755  0.0  0.0  0.0  14.901792   \n",
       "2434   AUS             Australia  12/31/2019  0.939  0.0  0.0  0.0  17.054184   \n",
       "2728   AUT               Austria  12/31/2019  0.908  0.0  0.0  0.0  16.013446   \n",
       "...    ...                   ...         ...    ...  ...  ...  ...        ...   \n",
       "45484  THA              Thailand  12/31/2019  0.755  0.0  0.0  0.0  18.061144   \n",
       "47533  ARE  United Arab Emirates  12/31/2019  0.863  0.0  0.0  0.0  16.107075   \n",
       "47827  GBR        United Kingdom  12/31/2019  0.922  0.0  0.0  0.0  18.033340   \n",
       "48121  USA         United States  12/31/2019  0.924  0.0  0.0  0.0  19.617637   \n",
       "49503  VNM               Vietnam  12/31/2019  0.694  0.0  0.0  0.0  18.393706   \n",
       "\n",
       "          GDPCAP  percent  death  Total_GDP ($)  Year  Month  \n",
       "0       7.497754      0.0    NaN     131.040003  2019     12  \n",
       "519     9.540639      0.0    NaN     167.880037  2019     12  \n",
       "1924    9.081095      0.0    NaN     135.324582  2019     12  \n",
       "2434   10.706581      0.0    NaN     182.592001  2019     12  \n",
       "2728   10.724075      0.0    NaN     171.729398  2019     12  \n",
       "...          ...      ...    ...            ...   ...    ...  \n",
       "45484   9.697550      0.0    NaN     175.148842  2019     12  \n",
       "47533  11.116819      0.0    NaN     179.059434  2019     12  \n",
       "47827  10.590447      0.0    NaN     190.981131  2019     12  \n",
       "48121  10.900906      0.0    NaN     213.850007  2019     12  \n",
       "49503   8.727759      0.0    NaN     160.535841  2019     12  \n",
       "\n",
       "[66 rows x 14 columns]"
      ]
     },
     "execution_count": 48,
     "metadata": {},
     "output_type": "execute_result"
    }
   ],
   "source": [
    "Before_covid=df[df.Year == 2019]\n",
    "Before_covid"
   ]
  },
  {
   "cell_type": "code",
   "execution_count": 63,
   "id": "04a553b5",
   "metadata": {},
   "outputs": [
    {
     "data": {
      "text/html": [
       "<div>\n",
       "<style scoped>\n",
       "    .dataframe tbody tr th:only-of-type {\n",
       "        vertical-align: middle;\n",
       "    }\n",
       "\n",
       "    .dataframe tbody tr th {\n",
       "        vertical-align: top;\n",
       "    }\n",
       "\n",
       "    .dataframe thead th {\n",
       "        text-align: right;\n",
       "    }\n",
       "</style>\n",
       "<table border=\"1\" class=\"dataframe\">\n",
       "  <thead>\n",
       "    <tr style=\"text-align: right;\">\n",
       "      <th></th>\n",
       "      <th>GDPCAP</th>\n",
       "    </tr>\n",
       "    <tr>\n",
       "      <th>COUNTRY</th>\n",
       "      <th></th>\n",
       "    </tr>\n",
       "  </thead>\n",
       "  <tbody>\n",
       "    <tr>\n",
       "      <th>Qatar</th>\n",
       "      <td>11.669379</td>\n",
       "    </tr>\n",
       "    <tr>\n",
       "      <th>Luxembourg</th>\n",
       "      <td>11.454003</td>\n",
       "    </tr>\n",
       "    <tr>\n",
       "      <th>Singapore</th>\n",
       "      <td>11.356685</td>\n",
       "    </tr>\n",
       "    <tr>\n",
       "      <th>Ireland</th>\n",
       "      <td>11.117440</td>\n",
       "    </tr>\n",
       "    <tr>\n",
       "      <th>United Arab Emirates</th>\n",
       "      <td>11.116819</td>\n",
       "    </tr>\n",
       "  </tbody>\n",
       "</table>\n",
       "</div>"
      ],
      "text/plain": [
       "                         GDPCAP\n",
       "COUNTRY                        \n",
       "Qatar                 11.669379\n",
       "Luxembourg            11.454003\n",
       "Singapore             11.356685\n",
       "Ireland               11.117440\n",
       "United Arab Emirates  11.116819"
      ]
     },
     "execution_count": 63,
     "metadata": {},
     "output_type": "execute_result"
    }
   ],
   "source": [
    "Before_covid.groupby('COUNTRY')[['GDPCAP']].mean().sort_values(by='GDPCAP', ascending=False).head()"
   ]
  },
  {
   "cell_type": "code",
   "execution_count": 50,
   "id": "584033f6",
   "metadata": {},
   "outputs": [
    {
     "data": {
      "text/html": [
       "<div>\n",
       "<style scoped>\n",
       "    .dataframe tbody tr th:only-of-type {\n",
       "        vertical-align: middle;\n",
       "    }\n",
       "\n",
       "    .dataframe tbody tr th {\n",
       "        vertical-align: top;\n",
       "    }\n",
       "\n",
       "    .dataframe thead th {\n",
       "        text-align: right;\n",
       "    }\n",
       "</style>\n",
       "<table border=\"1\" class=\"dataframe\">\n",
       "  <thead>\n",
       "    <tr style=\"text-align: right;\">\n",
       "      <th></th>\n",
       "      <th>CODE</th>\n",
       "      <th>COUNTRY</th>\n",
       "      <th>DATE</th>\n",
       "      <th>HDI</th>\n",
       "      <th>TC</th>\n",
       "      <th>TD</th>\n",
       "      <th>STI</th>\n",
       "      <th>POP</th>\n",
       "      <th>GDPCAP</th>\n",
       "      <th>percent</th>\n",
       "      <th>death</th>\n",
       "      <th>Total_GDP ($)</th>\n",
       "      <th>Year</th>\n",
       "      <th>Month</th>\n",
       "    </tr>\n",
       "  </thead>\n",
       "  <tbody>\n",
       "    <tr>\n",
       "      <th>1</th>\n",
       "      <td>AFG</td>\n",
       "      <td>Afghanistan</td>\n",
       "      <td>1/1/2020</td>\n",
       "      <td>0.498</td>\n",
       "      <td>0.000000</td>\n",
       "      <td>0.000000</td>\n",
       "      <td>0.000000</td>\n",
       "      <td>17.477233</td>\n",
       "      <td>7.497754</td>\n",
       "      <td>0.000000</td>\n",
       "      <td>NaN</td>\n",
       "      <td>131.040003</td>\n",
       "      <td>2020</td>\n",
       "      <td>1</td>\n",
       "    </tr>\n",
       "    <tr>\n",
       "      <th>2</th>\n",
       "      <td>AFG</td>\n",
       "      <td>Afghanistan</td>\n",
       "      <td>1/2/2020</td>\n",
       "      <td>0.498</td>\n",
       "      <td>0.000000</td>\n",
       "      <td>0.000000</td>\n",
       "      <td>0.000000</td>\n",
       "      <td>17.477233</td>\n",
       "      <td>7.497754</td>\n",
       "      <td>0.000000</td>\n",
       "      <td>NaN</td>\n",
       "      <td>131.040003</td>\n",
       "      <td>2020</td>\n",
       "      <td>1</td>\n",
       "    </tr>\n",
       "    <tr>\n",
       "      <th>3</th>\n",
       "      <td>AFG</td>\n",
       "      <td>Afghanistan</td>\n",
       "      <td>1/3/2020</td>\n",
       "      <td>0.498</td>\n",
       "      <td>0.000000</td>\n",
       "      <td>0.000000</td>\n",
       "      <td>0.000000</td>\n",
       "      <td>17.477233</td>\n",
       "      <td>7.497754</td>\n",
       "      <td>0.000000</td>\n",
       "      <td>NaN</td>\n",
       "      <td>131.040003</td>\n",
       "      <td>2020</td>\n",
       "      <td>1</td>\n",
       "    </tr>\n",
       "    <tr>\n",
       "      <th>4</th>\n",
       "      <td>AFG</td>\n",
       "      <td>Afghanistan</td>\n",
       "      <td>1/4/2020</td>\n",
       "      <td>0.498</td>\n",
       "      <td>0.000000</td>\n",
       "      <td>0.000000</td>\n",
       "      <td>0.000000</td>\n",
       "      <td>17.477233</td>\n",
       "      <td>7.497754</td>\n",
       "      <td>0.000000</td>\n",
       "      <td>NaN</td>\n",
       "      <td>131.040003</td>\n",
       "      <td>2020</td>\n",
       "      <td>1</td>\n",
       "    </tr>\n",
       "    <tr>\n",
       "      <th>5</th>\n",
       "      <td>AFG</td>\n",
       "      <td>Afghanistan</td>\n",
       "      <td>1/5/2020</td>\n",
       "      <td>0.498</td>\n",
       "      <td>0.000000</td>\n",
       "      <td>0.000000</td>\n",
       "      <td>0.000000</td>\n",
       "      <td>17.477233</td>\n",
       "      <td>7.497754</td>\n",
       "      <td>0.000000</td>\n",
       "      <td>NaN</td>\n",
       "      <td>131.040003</td>\n",
       "      <td>2020</td>\n",
       "      <td>1</td>\n",
       "    </tr>\n",
       "    <tr>\n",
       "      <th>...</th>\n",
       "      <td>...</td>\n",
       "      <td>...</td>\n",
       "      <td>...</td>\n",
       "      <td>...</td>\n",
       "      <td>...</td>\n",
       "      <td>...</td>\n",
       "      <td>...</td>\n",
       "      <td>...</td>\n",
       "      <td>...</td>\n",
       "      <td>...</td>\n",
       "      <td>...</td>\n",
       "      <td>...</td>\n",
       "      <td>...</td>\n",
       "      <td>...</td>\n",
       "    </tr>\n",
       "    <tr>\n",
       "      <th>50413</th>\n",
       "      <td>ZWE</td>\n",
       "      <td>Zimbabwe</td>\n",
       "      <td>10/15/2020</td>\n",
       "      <td>0.535</td>\n",
       "      <td>8.994048</td>\n",
       "      <td>5.442418</td>\n",
       "      <td>4.341855</td>\n",
       "      <td>16.514381</td>\n",
       "      <td>7.549491</td>\n",
       "      <td>0.001596</td>\n",
       "      <td>0.605113</td>\n",
       "      <td>124.675163</td>\n",
       "      <td>2020</td>\n",
       "      <td>10</td>\n",
       "    </tr>\n",
       "    <tr>\n",
       "      <th>50414</th>\n",
       "      <td>ZWE</td>\n",
       "      <td>Zimbabwe</td>\n",
       "      <td>10/16/2020</td>\n",
       "      <td>0.535</td>\n",
       "      <td>8.996528</td>\n",
       "      <td>5.442418</td>\n",
       "      <td>4.341855</td>\n",
       "      <td>16.514381</td>\n",
       "      <td>7.549491</td>\n",
       "      <td>0.001596</td>\n",
       "      <td>0.604946</td>\n",
       "      <td>124.675163</td>\n",
       "      <td>2020</td>\n",
       "      <td>10</td>\n",
       "    </tr>\n",
       "    <tr>\n",
       "      <th>50415</th>\n",
       "      <td>ZWE</td>\n",
       "      <td>Zimbabwe</td>\n",
       "      <td>10/17/2020</td>\n",
       "      <td>0.535</td>\n",
       "      <td>8.999496</td>\n",
       "      <td>5.442418</td>\n",
       "      <td>4.341855</td>\n",
       "      <td>16.514381</td>\n",
       "      <td>7.549491</td>\n",
       "      <td>0.001596</td>\n",
       "      <td>0.604747</td>\n",
       "      <td>124.675163</td>\n",
       "      <td>2020</td>\n",
       "      <td>10</td>\n",
       "    </tr>\n",
       "    <tr>\n",
       "      <th>50416</th>\n",
       "      <td>ZWE</td>\n",
       "      <td>Zimbabwe</td>\n",
       "      <td>10/18/2020</td>\n",
       "      <td>0.535</td>\n",
       "      <td>9.000853</td>\n",
       "      <td>5.442418</td>\n",
       "      <td>4.341855</td>\n",
       "      <td>16.514381</td>\n",
       "      <td>7.549491</td>\n",
       "      <td>0.001596</td>\n",
       "      <td>0.604656</td>\n",
       "      <td>124.675163</td>\n",
       "      <td>2020</td>\n",
       "      <td>10</td>\n",
       "    </tr>\n",
       "    <tr>\n",
       "      <th>50417</th>\n",
       "      <td>ZWE</td>\n",
       "      <td>Zimbabwe</td>\n",
       "      <td>10/19/2020</td>\n",
       "      <td>0.535</td>\n",
       "      <td>9.005405</td>\n",
       "      <td>5.442418</td>\n",
       "      <td>4.341855</td>\n",
       "      <td>16.514381</td>\n",
       "      <td>7.549491</td>\n",
       "      <td>0.001596</td>\n",
       "      <td>0.604350</td>\n",
       "      <td>124.675163</td>\n",
       "      <td>2020</td>\n",
       "      <td>10</td>\n",
       "    </tr>\n",
       "  </tbody>\n",
       "</table>\n",
       "<p>50352 rows × 14 columns</p>\n",
       "</div>"
      ],
      "text/plain": [
       "      CODE      COUNTRY        DATE    HDI        TC        TD       STI  \\\n",
       "1      AFG  Afghanistan    1/1/2020  0.498  0.000000  0.000000  0.000000   \n",
       "2      AFG  Afghanistan    1/2/2020  0.498  0.000000  0.000000  0.000000   \n",
       "3      AFG  Afghanistan    1/3/2020  0.498  0.000000  0.000000  0.000000   \n",
       "4      AFG  Afghanistan    1/4/2020  0.498  0.000000  0.000000  0.000000   \n",
       "5      AFG  Afghanistan    1/5/2020  0.498  0.000000  0.000000  0.000000   \n",
       "...    ...          ...         ...    ...       ...       ...       ...   \n",
       "50413  ZWE     Zimbabwe  10/15/2020  0.535  8.994048  5.442418  4.341855   \n",
       "50414  ZWE     Zimbabwe  10/16/2020  0.535  8.996528  5.442418  4.341855   \n",
       "50415  ZWE     Zimbabwe  10/17/2020  0.535  8.999496  5.442418  4.341855   \n",
       "50416  ZWE     Zimbabwe  10/18/2020  0.535  9.000853  5.442418  4.341855   \n",
       "50417  ZWE     Zimbabwe  10/19/2020  0.535  9.005405  5.442418  4.341855   \n",
       "\n",
       "             POP    GDPCAP   percent     death  Total_GDP ($)  Year  Month  \n",
       "1      17.477233  7.497754  0.000000       NaN     131.040003  2020      1  \n",
       "2      17.477233  7.497754  0.000000       NaN     131.040003  2020      1  \n",
       "3      17.477233  7.497754  0.000000       NaN     131.040003  2020      1  \n",
       "4      17.477233  7.497754  0.000000       NaN     131.040003  2020      1  \n",
       "5      17.477233  7.497754  0.000000       NaN     131.040003  2020      1  \n",
       "...          ...       ...       ...       ...            ...   ...    ...  \n",
       "50413  16.514381  7.549491  0.001596  0.605113     124.675163  2020     10  \n",
       "50414  16.514381  7.549491  0.001596  0.604946     124.675163  2020     10  \n",
       "50415  16.514381  7.549491  0.001596  0.604747     124.675163  2020     10  \n",
       "50416  16.514381  7.549491  0.001596  0.604656     124.675163  2020     10  \n",
       "50417  16.514381  7.549491  0.001596  0.604350     124.675163  2020     10  \n",
       "\n",
       "[50352 rows x 14 columns]"
      ]
     },
     "execution_count": 50,
     "metadata": {},
     "output_type": "execute_result"
    }
   ],
   "source": [
    "During_covid=df[(df.Year == 2020)|(df.Year ==2021)]\n",
    "During_covid"
   ]
  },
  {
   "cell_type": "code",
   "execution_count": 62,
   "id": "7c6011db",
   "metadata": {},
   "outputs": [
    {
     "data": {
      "text/html": [
       "<div>\n",
       "<style scoped>\n",
       "    .dataframe tbody tr th:only-of-type {\n",
       "        vertical-align: middle;\n",
       "    }\n",
       "\n",
       "    .dataframe tbody tr th {\n",
       "        vertical-align: top;\n",
       "    }\n",
       "\n",
       "    .dataframe thead th {\n",
       "        text-align: right;\n",
       "    }\n",
       "</style>\n",
       "<table border=\"1\" class=\"dataframe\">\n",
       "  <thead>\n",
       "    <tr style=\"text-align: right;\">\n",
       "      <th></th>\n",
       "      <th>GDPCAP</th>\n",
       "    </tr>\n",
       "    <tr>\n",
       "      <th>COUNTRY</th>\n",
       "      <th></th>\n",
       "    </tr>\n",
       "  </thead>\n",
       "  <tbody>\n",
       "    <tr>\n",
       "      <th>Qatar</th>\n",
       "      <td>11.669379</td>\n",
       "    </tr>\n",
       "    <tr>\n",
       "      <th>Luxembourg</th>\n",
       "      <td>11.454003</td>\n",
       "    </tr>\n",
       "    <tr>\n",
       "      <th>Singapore</th>\n",
       "      <td>11.356685</td>\n",
       "    </tr>\n",
       "    <tr>\n",
       "      <th>Brunei</th>\n",
       "      <td>11.181769</td>\n",
       "    </tr>\n",
       "    <tr>\n",
       "      <th>Ireland</th>\n",
       "      <td>11.117440</td>\n",
       "    </tr>\n",
       "    <tr>\n",
       "      <th>United Arab Emirates</th>\n",
       "      <td>11.116819</td>\n",
       "    </tr>\n",
       "    <tr>\n",
       "      <th>Kuwait</th>\n",
       "      <td>11.090272</td>\n",
       "    </tr>\n",
       "    <tr>\n",
       "      <th>Norway</th>\n",
       "      <td>11.079062</td>\n",
       "    </tr>\n",
       "    <tr>\n",
       "      <th>Switzerland</th>\n",
       "      <td>10.957977</td>\n",
       "    </tr>\n",
       "    <tr>\n",
       "      <th>San Marino</th>\n",
       "      <td>10.948373</td>\n",
       "    </tr>\n",
       "  </tbody>\n",
       "</table>\n",
       "</div>"
      ],
      "text/plain": [
       "                         GDPCAP\n",
       "COUNTRY                        \n",
       "Qatar                 11.669379\n",
       "Luxembourg            11.454003\n",
       "Singapore             11.356685\n",
       "Brunei                11.181769\n",
       "Ireland               11.117440\n",
       "United Arab Emirates  11.116819\n",
       "Kuwait                11.090272\n",
       "Norway                11.079062\n",
       "Switzerland           10.957977\n",
       "San Marino            10.948373"
      ]
     },
     "execution_count": 62,
     "metadata": {},
     "output_type": "execute_result"
    }
   ],
   "source": [
    "During_covid.groupby('COUNTRY')[['GDPCAP']].mean().sort_values(by='GDPCAP', ascending=False).head(10)"
   ]
  },
  {
   "cell_type": "markdown",
   "id": "944e83e4",
   "metadata": {},
   "source": [
    "# Human Development Index"
   ]
  },
  {
   "cell_type": "code",
   "execution_count": 22,
   "id": "d12c731e",
   "metadata": {},
   "outputs": [
    {
     "data": {
      "text/plain": [
       "COUNTRY\n",
       "Norway         280.182\n",
       "Switzerland    277.536\n",
       "Australia      276.066\n",
       "Ireland        275.772\n",
       "Germany        275.184\n",
       "Name: HDI, dtype: float64"
      ]
     },
     "execution_count": 22,
     "metadata": {},
     "output_type": "execute_result"
    }
   ],
   "source": [
    "HDI=df.groupby('COUNTRY')['HDI'].sum().nlargest(10).sort_values(ascending = False)\n",
    "HDI.head()"
   ]
  },
  {
   "cell_type": "code",
   "execution_count": 23,
   "id": "cd0ac2b7",
   "metadata": {},
   "outputs": [
    {
     "data": {
      "text/plain": [
       "<AxesSubplot:xlabel='COUNTRY'>"
      ]
     },
     "execution_count": 23,
     "metadata": {},
     "output_type": "execute_result"
    },
    {
     "data": {
      "image/png": "[encoded data removed]",
      "text/plain": [
       "<Figure size 432x288 with 1 Axes>"
      ]
     },
     "metadata": {
      "needs_background": "light"
     },
     "output_type": "display_data"
    }
   ],
   "source": [
    "HDI.head().plot(x=\"STI\", y=[\"COUNTRY\"], kind=\"bar\",color = \"maroon\")"
   ]
  }
 ],
 "metadata": {
  "kernelspec": {
   "display_name": "Python 3 (ipykernel)",
   "language": "python",
   "name": "python3"
  },
  "language_info": {
   "codemirror_mode": {
    "name": "ipython",
    "version": 3
   },
   "file_extension": ".py",
   "mimetype": "text/x-python",
   "name": "python",
   "nbconvert_exporter": "python",
   "pygments_lexer": "ipython3",
   "version": "3.9.7"
  }
 },
 "nbformat": 4,
 "nbformat_minor": 5
}
